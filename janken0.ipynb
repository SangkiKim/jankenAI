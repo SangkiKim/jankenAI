{
  "nbformat": 4,
  "nbformat_minor": 0,
  "metadata": {
    "colab": {
      "name": "janken0.ipynb",
      "provenance": [],
      "authorship_tag": "ABX9TyMt/Gkpvbe9G8Qh1/hXu0Hs",
      "include_colab_link": true
    },
    "kernelspec": {
      "name": "python3",
      "display_name": "Python 3"
    },
    "language_info": {
      "name": "python"
    },
    "accelerator": "GPU"
  },
  "cells": [
    {
      "cell_type": "markdown",
      "metadata": {
        "id": "view-in-github",
        "colab_type": "text"
      },
      "source": [
        "<a href=\"https://colab.research.google.com/github/SangkiKim/jankenAI/blob/main/janken0.ipynb\" target=\"_parent\"><img src=\"https://colab.research.google.com/assets/colab-badge.svg\" alt=\"Open In Colab\"/></a>"
      ]
    },
    {
      "cell_type": "code",
      "metadata": {
        "id": "Hz-_X5GdHqWL"
      },
      "source": [
        "dataset_original_dir = 'datasets'\n",
        "dataset_root_dir = 'target_datasets'"
      ],
      "execution_count": 13,
      "outputs": []
    }
  ]
}