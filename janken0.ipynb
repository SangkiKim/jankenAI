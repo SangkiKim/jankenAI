{
  "nbformat": 4,
  "nbformat_minor": 0,
  "metadata": {
    "colab": {
      "name": "janken0.ipynb",
      "provenance": [],
      "authorship_tag": "ABX9TyMDxUQOlfQe4HQZ8Xln9ROv",
      "include_colab_link": true
    },
    "kernelspec": {
      "name": "python3",
      "display_name": "Python 3"
    },
    "language_info": {
      "name": "python"
    },
    "accelerator": "GPU"
  },
  "cells": [
    {
      "cell_type": "markdown",
      "metadata": {
        "id": "view-in-github",
        "colab_type": "text"
      },
      "source": [
        "<a href=\"https://colab.research.google.com/github/SangkiKim/jankenAI/blob/main/janken0.ipynb\" target=\"_parent\"><img src=\"https://colab.research.google.com/assets/colab-badge.svg\" alt=\"Open In Colab\"/></a>"
      ]
    },
    {
      "cell_type": "code",
      "metadata": {
        "id": "Hz-_X5GdHqWL",
        "colab": {
          "base_uri": "https://localhost:8080/"
        },
        "outputId": "7b068af1-9283-42a6-edfc-0dd7d0923e77"
      },
      "source": [
        "!git clone https://github.com/karaage0703/janken_dataset datasets"
      ],
      "execution_count": 8,
      "outputs": [
        {
          "output_type": "stream",
          "text": [
            "Cloning into 'datasets'...\n",
            "remote: Enumerating objects: 210, done.\u001b[K\n",
            "remote: Total 210 (delta 0), reused 0 (delta 0), pack-reused 210\u001b[K\n",
            "Receiving objects: 100% (210/210), 4.60 MiB | 19.21 MiB/s, done.\n",
            "Resolving deltas: 100% (3/3), done.\n"
          ],
          "name": "stdout"
        }
      ]
    },
    {
      "cell_type": "code",
      "metadata": {
        "colab": {
          "base_uri": "https://localhost:8080/"
        },
        "id": "fX_r-H3yTKPH",
        "outputId": "43e963fd-ac7d-494a-9e9a-0352c59d445c"
      },
      "source": [
        "import split_train_val\n",
        "dataset_original_dir = 'datasets'\n",
        "dataset_root_dir = 'target_datasets'\n",
        "split_train_val.image_dir_train_val_split(dataset_original_dir,dataset_root_dir,train_size=0.67)"
      ],
      "execution_count": 11,
      "outputs": [
        {
          "output_type": "stream",
          "text": [
            "target_datasetsis already created.\n",
            "target_datasets/trainis already created.\n",
            "target_datasets/valis already created.\n",
            "target_datasets/train/guis already created.\n",
            "target_datasets/val/guis already created.\n",
            "target_datasets/train/pais already created.\n",
            "target_datasets/val/pais already created.\n",
            "target_datasets/train/chokiis already created.\n",
            "target_datasets/val/chokiis already created.\n",
            "datasets/gu copy is done\n",
            "datasets/pa copy is done\n",
            "datasets/choki copy is done\n",
            "processing is done\n"
          ],
          "name": "stdout"
        }
      ]
    },
    {
      "cell_type": "code",
      "metadata": {
        "id": "sgkgpbY2UzbO"
      },
      "source": [
        "!rm -rf datasets/.git\n",
        "!rm datasets/LICENSE"
      ],
      "execution_count": 10,
      "outputs": []
    },
    {
      "cell_type": "code",
      "metadata": {
        "id": "MO6O9BoNU_R0"
      },
      "source": [
        "import sys,os,shutil\n",
        "\n",
        "backup_dir = './model'\n",
        "\n",
        "train_dir = 'target_datasets/train'\n",
        "val_dir = 'target_datasets/val'"
      ],
      "execution_count": 17,
      "outputs": []
    },
    {
      "cell_type": "code",
      "metadata": {
        "id": "JRk9ZAWZlj9C",
        "colab": {
          "base_uri": "https://localhost:8080/"
        },
        "outputId": "4398c143-5aab-4deb-a3ae-01b5de050ce8"
      },
      "source": [
        "labels = [d for d in os.listdir(dataset_original_dir) \\\n",
        "    if os.path.isdir(os.path.join(dataset_original_dir, d))]\n",
        "labels.sort()\n",
        "\n",
        "if os.path.exists(backup_dir):\n",
        "  shutil.rmtree(backup_dir)\n",
        "\n",
        "os.makedirs(backup_dir)\n",
        "\n",
        "with open(backup_dir + '/labels.txt','w') as f:\n",
        "  for label in labels:\n",
        "    f.write(label+\"\\n\")\n",
        "\n",
        "NUM_CLASSES = len(labels)\n",
        "print(\"class number=\" + str(NUM_CLASSES))"
      ],
      "execution_count": 18,
      "outputs": [
        {
          "output_type": "stream",
          "text": [
            "class number=3\n"
          ],
          "name": "stdout"
        }
      ]
    },
    {
      "cell_type": "code",
      "metadata": {
        "colab": {
          "base_uri": "https://localhost:8080/"
        },
        "id": "Dk8nSYQPX0sE",
        "outputId": "36fe6399-4525-4539-c852-c16821fd9346"
      },
      "source": [
        "%tensorflow_version 2.x\n",
        "import tensorflow as tf\n",
        "print(tf.__version__)"
      ],
      "execution_count": 20,
      "outputs": [
        {
          "output_type": "stream",
          "text": [
            "2.6.0\n"
          ],
          "name": "stdout"
        }
      ]
    }
  ]
}